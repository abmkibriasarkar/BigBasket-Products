{
  "nbformat": 4,
  "nbformat_minor": 0,
  "metadata": {
    "colab": {
      "provenance": [],
      "collapsed_sections": [],
      "authorship_tag": "ABX9TyPH0FqjXv9RKGnFztcw9zG1",
      "include_colab_link": true
    },
    "kernelspec": {
      "name": "python3",
      "display_name": "Python 3"
    },
    "language_info": {
      "name": "python"
    }
  },
  "cells": [
    {
      "cell_type": "markdown",
      "metadata": {
        "id": "view-in-github",
        "colab_type": "text"
      },
      "source": [
        "<a href=\"https://colab.research.google.com/github/abmkibriasarkar/BigBasket-Products/blob/main/BigBasketProducts.ipynb\" target=\"_parent\"><img src=\"https://colab.research.google.com/assets/colab-badge.svg\" alt=\"Open In Colab\"/></a>"
      ]
    },
    {
      "cell_type": "markdown",
      "source": [
        "Big Basket Products"
      ],
      "metadata": {
        "id": "LOZ0gh3MXbIM"
      }
    },
    {
      "cell_type": "code",
      "source": [
        "#importing libraries\n",
        "import matplotlib.pyplot as plt\n",
        "import matplotlib.mlab as mlab\n",
        "import seaborn as sns\n",
        "import pandas as pd\n",
        "import numpy as np"
      ],
      "metadata": {
        "id": "VEmsx3I8Xjmd"
      },
      "execution_count": null,
      "outputs": []
    },
    {
      "cell_type": "code",
      "source": [
        "#reading dataset\n",
        "#df = pd.read_csv('E:\\ASDS\\Python for DS\\GPA.csv')\n",
        "\n",
        "url='https://raw.githubusercontent.com/abmkibriasarkar/BigBasket-Products/main/BigBasket.csv'\n",
        "df = pd.read_csv(url)\n",
        "df\n",
        "df.head()"
      ],
      "metadata": {
        "colab": {
          "base_uri": "https://localhost:8080/",
          "height": 444
        },
        "id": "ZyunsojMXxhw",
        "outputId": "e2753271-7e8c-400f-eac9-3152f7fcebd3"
      },
      "execution_count": null,
      "outputs": [
        {
          "output_type": "execute_result",
          "data": {
            "text/plain": [
              "     ProductName   Brand   Price  DiscountPrice  \\\n",
              "0  Onion (Loose)  Fresho   69.75           52.0   \n",
              "1          Onion  Fresho  174.35          130.0   \n",
              "2  Onion (Loose)  Fresho   34.87           26.0   \n",
              "3          Onion  Fresho   69.74           52.0   \n",
              "4  Onion (Loose)  Fresho  174.37          129.0   \n",
              "\n",
              "                                           Image_Url Quantity  \\\n",
              "0  https://www.bigbasket.com/media/uploads/p/l/40...     2 kg   \n",
              "1  https://www.bigbasket.com/media/uploads/p/l/12...     5 kg   \n",
              "2  https://www.bigbasket.com/media/uploads/p/l/10...     1 kg   \n",
              "3  https://www.bigbasket.com/media/uploads/p/l/12...     2 kg   \n",
              "4  https://www.bigbasket.com/media/uploads/p/l/10...     5 kg   \n",
              "\n",
              "              Category             SubCategory  \\\n",
              "0  Fruits & Vegetables  Potato, Onion & Tomato   \n",
              "1  Fruits & Vegetables  Potato, Onion & Tomato   \n",
              "2  Fruits & Vegetables  Potato, Onion & Tomato   \n",
              "3  Fruits & Vegetables  Potato, Onion & Tomato   \n",
              "4  Fruits & Vegetables  Potato, Onion & Tomato   \n",
              "\n",
              "                                        Absolute_Url  \n",
              "0  https://www.bigbasket.com/pd/40075537/fresho-o...  \n",
              "1  https://www.bigbasket.com/pd/1201414/fresho-on...  \n",
              "2  https://www.bigbasket.com/pd/10000148/fresho-o...  \n",
              "3  https://www.bigbasket.com/pd/1201413/fresho-on...  \n",
              "4  https://www.bigbasket.com/pd/10000150/fresho-o...  "
            ],
            "text/html": [
              "\n",
              "  <div id=\"df-8a665686-dd71-4a1c-8503-d07202e6d8ad\">\n",
              "    <div class=\"colab-df-container\">\n",
              "      <div>\n",
              "<style scoped>\n",
              "    .dataframe tbody tr th:only-of-type {\n",
              "        vertical-align: middle;\n",
              "    }\n",
              "\n",
              "    .dataframe tbody tr th {\n",
              "        vertical-align: top;\n",
              "    }\n",
              "\n",
              "    .dataframe thead th {\n",
              "        text-align: right;\n",
              "    }\n",
              "</style>\n",
              "<table border=\"1\" class=\"dataframe\">\n",
              "  <thead>\n",
              "    <tr style=\"text-align: right;\">\n",
              "      <th></th>\n",
              "      <th>ProductName</th>\n",
              "      <th>Brand</th>\n",
              "      <th>Price</th>\n",
              "      <th>DiscountPrice</th>\n",
              "      <th>Image_Url</th>\n",
              "      <th>Quantity</th>\n",
              "      <th>Category</th>\n",
              "      <th>SubCategory</th>\n",
              "      <th>Absolute_Url</th>\n",
              "    </tr>\n",
              "  </thead>\n",
              "  <tbody>\n",
              "    <tr>\n",
              "      <th>0</th>\n",
              "      <td>Onion (Loose)</td>\n",
              "      <td>Fresho</td>\n",
              "      <td>69.75</td>\n",
              "      <td>52.0</td>\n",
              "      <td>https://www.bigbasket.com/media/uploads/p/l/40...</td>\n",
              "      <td>2 kg</td>\n",
              "      <td>Fruits &amp; Vegetables</td>\n",
              "      <td>Potato, Onion &amp; Tomato</td>\n",
              "      <td>https://www.bigbasket.com/pd/40075537/fresho-o...</td>\n",
              "    </tr>\n",
              "    <tr>\n",
              "      <th>1</th>\n",
              "      <td>Onion</td>\n",
              "      <td>Fresho</td>\n",
              "      <td>174.35</td>\n",
              "      <td>130.0</td>\n",
              "      <td>https://www.bigbasket.com/media/uploads/p/l/12...</td>\n",
              "      <td>5 kg</td>\n",
              "      <td>Fruits &amp; Vegetables</td>\n",
              "      <td>Potato, Onion &amp; Tomato</td>\n",
              "      <td>https://www.bigbasket.com/pd/1201414/fresho-on...</td>\n",
              "    </tr>\n",
              "    <tr>\n",
              "      <th>2</th>\n",
              "      <td>Onion (Loose)</td>\n",
              "      <td>Fresho</td>\n",
              "      <td>34.87</td>\n",
              "      <td>26.0</td>\n",
              "      <td>https://www.bigbasket.com/media/uploads/p/l/10...</td>\n",
              "      <td>1 kg</td>\n",
              "      <td>Fruits &amp; Vegetables</td>\n",
              "      <td>Potato, Onion &amp; Tomato</td>\n",
              "      <td>https://www.bigbasket.com/pd/10000148/fresho-o...</td>\n",
              "    </tr>\n",
              "    <tr>\n",
              "      <th>3</th>\n",
              "      <td>Onion</td>\n",
              "      <td>Fresho</td>\n",
              "      <td>69.74</td>\n",
              "      <td>52.0</td>\n",
              "      <td>https://www.bigbasket.com/media/uploads/p/l/12...</td>\n",
              "      <td>2 kg</td>\n",
              "      <td>Fruits &amp; Vegetables</td>\n",
              "      <td>Potato, Onion &amp; Tomato</td>\n",
              "      <td>https://www.bigbasket.com/pd/1201413/fresho-on...</td>\n",
              "    </tr>\n",
              "    <tr>\n",
              "      <th>4</th>\n",
              "      <td>Onion (Loose)</td>\n",
              "      <td>Fresho</td>\n",
              "      <td>174.37</td>\n",
              "      <td>129.0</td>\n",
              "      <td>https://www.bigbasket.com/media/uploads/p/l/10...</td>\n",
              "      <td>5 kg</td>\n",
              "      <td>Fruits &amp; Vegetables</td>\n",
              "      <td>Potato, Onion &amp; Tomato</td>\n",
              "      <td>https://www.bigbasket.com/pd/10000150/fresho-o...</td>\n",
              "    </tr>\n",
              "  </tbody>\n",
              "</table>\n",
              "</div>\n",
              "      <button class=\"colab-df-convert\" onclick=\"convertToInteractive('df-8a665686-dd71-4a1c-8503-d07202e6d8ad')\"\n",
              "              title=\"Convert this dataframe to an interactive table.\"\n",
              "              style=\"display:none;\">\n",
              "        \n",
              "  <svg xmlns=\"http://www.w3.org/2000/svg\" height=\"24px\"viewBox=\"0 0 24 24\"\n",
              "       width=\"24px\">\n",
              "    <path d=\"M0 0h24v24H0V0z\" fill=\"none\"/>\n",
              "    <path d=\"M18.56 5.44l.94 2.06.94-2.06 2.06-.94-2.06-.94-.94-2.06-.94 2.06-2.06.94zm-11 1L8.5 8.5l.94-2.06 2.06-.94-2.06-.94L8.5 2.5l-.94 2.06-2.06.94zm10 10l.94 2.06.94-2.06 2.06-.94-2.06-.94-.94-2.06-.94 2.06-2.06.94z\"/><path d=\"M17.41 7.96l-1.37-1.37c-.4-.4-.92-.59-1.43-.59-.52 0-1.04.2-1.43.59L10.3 9.45l-7.72 7.72c-.78.78-.78 2.05 0 2.83L4 21.41c.39.39.9.59 1.41.59.51 0 1.02-.2 1.41-.59l7.78-7.78 2.81-2.81c.8-.78.8-2.07 0-2.86zM5.41 20L4 18.59l7.72-7.72 1.47 1.35L5.41 20z\"/>\n",
              "  </svg>\n",
              "      </button>\n",
              "      \n",
              "  <style>\n",
              "    .colab-df-container {\n",
              "      display:flex;\n",
              "      flex-wrap:wrap;\n",
              "      gap: 12px;\n",
              "    }\n",
              "\n",
              "    .colab-df-convert {\n",
              "      background-color: #E8F0FE;\n",
              "      border: none;\n",
              "      border-radius: 50%;\n",
              "      cursor: pointer;\n",
              "      display: none;\n",
              "      fill: #1967D2;\n",
              "      height: 32px;\n",
              "      padding: 0 0 0 0;\n",
              "      width: 32px;\n",
              "    }\n",
              "\n",
              "    .colab-df-convert:hover {\n",
              "      background-color: #E2EBFA;\n",
              "      box-shadow: 0px 1px 2px rgba(60, 64, 67, 0.3), 0px 1px 3px 1px rgba(60, 64, 67, 0.15);\n",
              "      fill: #174EA6;\n",
              "    }\n",
              "\n",
              "    [theme=dark] .colab-df-convert {\n",
              "      background-color: #3B4455;\n",
              "      fill: #D2E3FC;\n",
              "    }\n",
              "\n",
              "    [theme=dark] .colab-df-convert:hover {\n",
              "      background-color: #434B5C;\n",
              "      box-shadow: 0px 1px 3px 1px rgba(0, 0, 0, 0.15);\n",
              "      filter: drop-shadow(0px 1px 2px rgba(0, 0, 0, 0.3));\n",
              "      fill: #FFFFFF;\n",
              "    }\n",
              "  </style>\n",
              "\n",
              "      <script>\n",
              "        const buttonEl =\n",
              "          document.querySelector('#df-8a665686-dd71-4a1c-8503-d07202e6d8ad button.colab-df-convert');\n",
              "        buttonEl.style.display =\n",
              "          google.colab.kernel.accessAllowed ? 'block' : 'none';\n",
              "\n",
              "        async function convertToInteractive(key) {\n",
              "          const element = document.querySelector('#df-8a665686-dd71-4a1c-8503-d07202e6d8ad');\n",
              "          const dataTable =\n",
              "            await google.colab.kernel.invokeFunction('convertToInteractive',\n",
              "                                                     [key], {});\n",
              "          if (!dataTable) return;\n",
              "\n",
              "          const docLinkHtml = 'Like what you see? Visit the ' +\n",
              "            '<a target=\"_blank\" href=https://colab.research.google.com/notebooks/data_table.ipynb>data table notebook</a>'\n",
              "            + ' to learn more about interactive tables.';\n",
              "          element.innerHTML = '';\n",
              "          dataTable['output_type'] = 'display_data';\n",
              "          await google.colab.output.renderOutput(dataTable, element);\n",
              "          const docLink = document.createElement('div');\n",
              "          docLink.innerHTML = docLinkHtml;\n",
              "          element.appendChild(docLink);\n",
              "        }\n",
              "      </script>\n",
              "    </div>\n",
              "  </div>\n",
              "  "
            ]
          },
          "metadata": {},
          "execution_count": 2
        }
      ]
    },
    {
      "cell_type": "code",
      "source": [
        "df.shape"
      ],
      "metadata": {
        "colab": {
          "base_uri": "https://localhost:8080/"
        },
        "id": "EwpJOT0yVBj5",
        "outputId": "f8672e80-7adf-4e63-cf8f-e682679a2f17"
      },
      "execution_count": null,
      "outputs": [
        {
          "output_type": "execute_result",
          "data": {
            "text/plain": [
              "(8208, 9)"
            ]
          },
          "metadata": {},
          "execution_count": 3
        }
      ]
    },
    {
      "cell_type": "code",
      "source": [
        "df.describe()"
      ],
      "metadata": {
        "colab": {
          "base_uri": "https://localhost:8080/",
          "height": 300
        },
        "id": "rR1c9K9oVx28",
        "outputId": "ff2cbaf2-505a-4445-f3fe-d0edecf085d0"
      },
      "execution_count": null,
      "outputs": [
        {
          "output_type": "execute_result",
          "data": {
            "text/plain": [
              "              Price  DiscountPrice\n",
              "count   8208.000000    8208.000000\n",
              "mean     545.418589     356.907968\n",
              "std      664.546512     438.097837\n",
              "min        5.000000       3.000000\n",
              "25%      190.000000     129.000000\n",
              "50%      360.000000     238.000000\n",
              "75%      650.000000     429.000000\n",
              "max    10140.000000    7605.000000"
            ],
            "text/html": [
              "\n",
              "  <div id=\"df-5254cf70-d5f6-4c5b-9d9c-d790db7b9a85\">\n",
              "    <div class=\"colab-df-container\">\n",
              "      <div>\n",
              "<style scoped>\n",
              "    .dataframe tbody tr th:only-of-type {\n",
              "        vertical-align: middle;\n",
              "    }\n",
              "\n",
              "    .dataframe tbody tr th {\n",
              "        vertical-align: top;\n",
              "    }\n",
              "\n",
              "    .dataframe thead th {\n",
              "        text-align: right;\n",
              "    }\n",
              "</style>\n",
              "<table border=\"1\" class=\"dataframe\">\n",
              "  <thead>\n",
              "    <tr style=\"text-align: right;\">\n",
              "      <th></th>\n",
              "      <th>Price</th>\n",
              "      <th>DiscountPrice</th>\n",
              "    </tr>\n",
              "  </thead>\n",
              "  <tbody>\n",
              "    <tr>\n",
              "      <th>count</th>\n",
              "      <td>8208.000000</td>\n",
              "      <td>8208.000000</td>\n",
              "    </tr>\n",
              "    <tr>\n",
              "      <th>mean</th>\n",
              "      <td>545.418589</td>\n",
              "      <td>356.907968</td>\n",
              "    </tr>\n",
              "    <tr>\n",
              "      <th>std</th>\n",
              "      <td>664.546512</td>\n",
              "      <td>438.097837</td>\n",
              "    </tr>\n",
              "    <tr>\n",
              "      <th>min</th>\n",
              "      <td>5.000000</td>\n",
              "      <td>3.000000</td>\n",
              "    </tr>\n",
              "    <tr>\n",
              "      <th>25%</th>\n",
              "      <td>190.000000</td>\n",
              "      <td>129.000000</td>\n",
              "    </tr>\n",
              "    <tr>\n",
              "      <th>50%</th>\n",
              "      <td>360.000000</td>\n",
              "      <td>238.000000</td>\n",
              "    </tr>\n",
              "    <tr>\n",
              "      <th>75%</th>\n",
              "      <td>650.000000</td>\n",
              "      <td>429.000000</td>\n",
              "    </tr>\n",
              "    <tr>\n",
              "      <th>max</th>\n",
              "      <td>10140.000000</td>\n",
              "      <td>7605.000000</td>\n",
              "    </tr>\n",
              "  </tbody>\n",
              "</table>\n",
              "</div>\n",
              "      <button class=\"colab-df-convert\" onclick=\"convertToInteractive('df-5254cf70-d5f6-4c5b-9d9c-d790db7b9a85')\"\n",
              "              title=\"Convert this dataframe to an interactive table.\"\n",
              "              style=\"display:none;\">\n",
              "        \n",
              "  <svg xmlns=\"http://www.w3.org/2000/svg\" height=\"24px\"viewBox=\"0 0 24 24\"\n",
              "       width=\"24px\">\n",
              "    <path d=\"M0 0h24v24H0V0z\" fill=\"none\"/>\n",
              "    <path d=\"M18.56 5.44l.94 2.06.94-2.06 2.06-.94-2.06-.94-.94-2.06-.94 2.06-2.06.94zm-11 1L8.5 8.5l.94-2.06 2.06-.94-2.06-.94L8.5 2.5l-.94 2.06-2.06.94zm10 10l.94 2.06.94-2.06 2.06-.94-2.06-.94-.94-2.06-.94 2.06-2.06.94z\"/><path d=\"M17.41 7.96l-1.37-1.37c-.4-.4-.92-.59-1.43-.59-.52 0-1.04.2-1.43.59L10.3 9.45l-7.72 7.72c-.78.78-.78 2.05 0 2.83L4 21.41c.39.39.9.59 1.41.59.51 0 1.02-.2 1.41-.59l7.78-7.78 2.81-2.81c.8-.78.8-2.07 0-2.86zM5.41 20L4 18.59l7.72-7.72 1.47 1.35L5.41 20z\"/>\n",
              "  </svg>\n",
              "      </button>\n",
              "      \n",
              "  <style>\n",
              "    .colab-df-container {\n",
              "      display:flex;\n",
              "      flex-wrap:wrap;\n",
              "      gap: 12px;\n",
              "    }\n",
              "\n",
              "    .colab-df-convert {\n",
              "      background-color: #E8F0FE;\n",
              "      border: none;\n",
              "      border-radius: 50%;\n",
              "      cursor: pointer;\n",
              "      display: none;\n",
              "      fill: #1967D2;\n",
              "      height: 32px;\n",
              "      padding: 0 0 0 0;\n",
              "      width: 32px;\n",
              "    }\n",
              "\n",
              "    .colab-df-convert:hover {\n",
              "      background-color: #E2EBFA;\n",
              "      box-shadow: 0px 1px 2px rgba(60, 64, 67, 0.3), 0px 1px 3px 1px rgba(60, 64, 67, 0.15);\n",
              "      fill: #174EA6;\n",
              "    }\n",
              "\n",
              "    [theme=dark] .colab-df-convert {\n",
              "      background-color: #3B4455;\n",
              "      fill: #D2E3FC;\n",
              "    }\n",
              "\n",
              "    [theme=dark] .colab-df-convert:hover {\n",
              "      background-color: #434B5C;\n",
              "      box-shadow: 0px 1px 3px 1px rgba(0, 0, 0, 0.15);\n",
              "      filter: drop-shadow(0px 1px 2px rgba(0, 0, 0, 0.3));\n",
              "      fill: #FFFFFF;\n",
              "    }\n",
              "  </style>\n",
              "\n",
              "      <script>\n",
              "        const buttonEl =\n",
              "          document.querySelector('#df-5254cf70-d5f6-4c5b-9d9c-d790db7b9a85 button.colab-df-convert');\n",
              "        buttonEl.style.display =\n",
              "          google.colab.kernel.accessAllowed ? 'block' : 'none';\n",
              "\n",
              "        async function convertToInteractive(key) {\n",
              "          const element = document.querySelector('#df-5254cf70-d5f6-4c5b-9d9c-d790db7b9a85');\n",
              "          const dataTable =\n",
              "            await google.colab.kernel.invokeFunction('convertToInteractive',\n",
              "                                                     [key], {});\n",
              "          if (!dataTable) return;\n",
              "\n",
              "          const docLinkHtml = 'Like what you see? Visit the ' +\n",
              "            '<a target=\"_blank\" href=https://colab.research.google.com/notebooks/data_table.ipynb>data table notebook</a>'\n",
              "            + ' to learn more about interactive tables.';\n",
              "          element.innerHTML = '';\n",
              "          dataTable['output_type'] = 'display_data';\n",
              "          await google.colab.output.renderOutput(dataTable, element);\n",
              "          const docLink = document.createElement('div');\n",
              "          docLink.innerHTML = docLinkHtml;\n",
              "          element.appendChild(docLink);\n",
              "        }\n",
              "      </script>\n",
              "    </div>\n",
              "  </div>\n",
              "  "
            ]
          },
          "metadata": {},
          "execution_count": 4
        }
      ]
    },
    {
      "cell_type": "code",
      "source": [
        "df.info()"
      ],
      "metadata": {
        "colab": {
          "base_uri": "https://localhost:8080/"
        },
        "id": "26xhQ-h8XWkH",
        "outputId": "1e268394-2676-4638-8bc2-7fb88c50f09d"
      },
      "execution_count": null,
      "outputs": [
        {
          "output_type": "stream",
          "name": "stdout",
          "text": [
            "<class 'pandas.core.frame.DataFrame'>\n",
            "RangeIndex: 8208 entries, 0 to 8207\n",
            "Data columns (total 9 columns):\n",
            " #   Column         Non-Null Count  Dtype  \n",
            "---  ------         --------------  -----  \n",
            " 0   ProductName    8208 non-null   object \n",
            " 1   Brand          8208 non-null   object \n",
            " 2   Price          8208 non-null   float64\n",
            " 3   DiscountPrice  8208 non-null   float64\n",
            " 4   Image_Url      8208 non-null   object \n",
            " 5   Quantity       8208 non-null   object \n",
            " 6   Category       8208 non-null   object \n",
            " 7   SubCategory    8208 non-null   object \n",
            " 8   Absolute_Url   8208 non-null   object \n",
            "dtypes: float64(2), object(7)\n",
            "memory usage: 577.2+ KB\n"
          ]
        }
      ]
    },
    {
      "cell_type": "code",
      "source": [
        "df.boxplot()"
      ],
      "metadata": {
        "colab": {
          "base_uri": "https://localhost:8080/",
          "height": 283
        },
        "id": "JeaDTuIqZEN7",
        "outputId": "b7ec38c0-9d8b-486c-b7c7-6db4fe37dfb2"
      },
      "execution_count": null,
      "outputs": [
        {
          "output_type": "execute_result",
          "data": {
            "text/plain": [
              "<matplotlib.axes._subplots.AxesSubplot at 0x7fe09b3198d0>"
            ]
          },
          "metadata": {},
          "execution_count": 6
        },
        {
          "output_type": "display_data",
          "data": {
            "text/plain": [
              "<Figure size 432x288 with 1 Axes>"
            ],
            "image/png": "[encoded data removed]"
          },
          "metadata": {
            "needs_background": "light"
          }
        }
      ]
    },
    {
      "cell_type": "code",
      "source": [
        "#Checking correlation\n",
        "correlation = df.corr() \n",
        "plt.figure(figsize=(15, 7))\n",
        "sns.heatmap(correlation, annot=True, linewidths=0, vmin=-1, cmap=\"RdBu_r\") \n",
        "plt.show()\n"
      ],
      "metadata": {
        "colab": {
          "base_uri": "https://localhost:8080/",
          "height": 344
        },
        "id": "pZttcxyscZmJ",
        "outputId": "dece9908-698a-4152-89ee-2ac34c8e3ffd"
      },
      "execution_count": null,
      "outputs": [
        {
          "output_type": "display_data",
          "data": {
            "text/plain": [
              "<Figure size 1080x504 with 2 Axes>"
            ],
            "image/png": "[encoded data removed]"
          },
          "metadata": {
            "needs_background": "light"
          }
        }
      ]
    },
    {
      "cell_type": "code",
      "source": [
        "bxplt = sns.boxplot(x=\"DiscountPrice\", y='Price', data = df)\n",
        "bxplt.set(xlabel='DiscountPrice', ylabel='Price', title='DiscountPrice percent in different Price')\n"
      ],
      "metadata": {
        "colab": {
          "base_uri": "https://localhost:8080/",
          "height": 350
        },
        "id": "c1VKYl_EgdUf",
        "outputId": "c2051d9f-6816-4e37-a598-66cdae84ca82"
      },
      "execution_count": null,
      "outputs": [
        {
          "output_type": "execute_result",
          "data": {
            "text/plain": [
              "[Text(0, 0.5, 'Price'),\n",
              " Text(0.5, 0, 'DiscountPrice'),\n",
              " Text(0.5, 1.0, 'DiscountPrice percent in different Price')]"
            ]
          },
          "metadata": {},
          "execution_count": 8
        },
        {
          "output_type": "display_data",
          "data": {
            "text/plain": [
              "<Figure size 432x288 with 1 Axes>"
            ],
            "image/png": "[encoded data removed]"
          },
          "metadata": {
            "needs_background": "light"
          }
        }
      ]
    }
  ]
}